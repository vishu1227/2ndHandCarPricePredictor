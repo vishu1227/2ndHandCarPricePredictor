{
 "cells": [
  {
   "cell_type": "code",
   "execution_count": 1,
   "id": "revised-logging",
   "metadata": {},
   "outputs": [],
   "source": [
    "from sklearn import datasets,linear_model\n",
    "import numpy as np\n",
    "import matplotlib.pyplot as plt\n",
    "from sklearn.metrics import mean_squared_error, r2_score\n",
    "import pandas as pd"
   ]
  },
  {
   "cell_type": "code",
   "execution_count": 2,
   "id": "homeless-magazine",
   "metadata": {
    "scrolled": true
   },
   "outputs": [
    {
     "name": "stdout",
     "output_type": "stream",
     "text": [
      "[[ 0.03807591  0.05068012  0.06169621 ... -0.00259226  0.01990842\n",
      "  -0.01764613]\n",
      " [-0.00188202 -0.04464164 -0.05147406 ... -0.03949338 -0.06832974\n",
      "  -0.09220405]\n",
      " [ 0.08529891  0.05068012  0.04445121 ... -0.00259226  0.00286377\n",
      "  -0.02593034]\n",
      " ...\n",
      " [ 0.04170844  0.05068012 -0.01590626 ... -0.01107952 -0.04687948\n",
      "   0.01549073]\n",
      " [-0.04547248 -0.04464164  0.03906215 ...  0.02655962  0.04452837\n",
      "  -0.02593034]\n",
      " [-0.04547248 -0.04464164 -0.0730303  ... -0.03949338 -0.00421986\n",
      "   0.00306441]]\n"
     ]
    }
   ],
   "source": [
    "print(datasets.load_diabetes(return_X_y=True)[0])"
   ]
  },
  {
   "cell_type": "code",
   "execution_count": 3,
   "id": "adjustable-paper",
   "metadata": {},
   "outputs": [],
   "source": [
    "diabaties_trainX=pd.DataFrame(datasets.load_diabetes(return_X_y=True)[0])[:-20]\n",
    "diabaties_trainY=pd.DataFrame(datasets.load_diabetes(return_X_y=True)[1])[:-20]"
   ]
  },
  {
   "cell_type": "code",
   "execution_count": 4,
   "id": "emerging-merit",
   "metadata": {},
   "outputs": [],
   "source": [
    "diabaties_testX=pd.DataFrame(datasets.load_diabetes(return_X_y=True)[0])[-20:]\n",
    "diabaties_testY=pd.DataFrame(datasets.load_diabetes(return_X_y=True)[1])[-20:]"
   ]
  },
  {
   "cell_type": "code",
   "execution_count": 5,
   "id": "hairy-spanking",
   "metadata": {},
   "outputs": [],
   "source": [
    "linearRegression=linear_model.LinearRegression()"
   ]
  },
  {
   "cell_type": "code",
   "execution_count": 6,
   "id": "incredible-identifier",
   "metadata": {},
   "outputs": [
    {
     "data": {
      "text/plain": [
       "LinearRegression()"
      ]
     },
     "execution_count": 6,
     "metadata": {},
     "output_type": "execute_result"
    }
   ],
   "source": [
    "linearRegression.fit(diabaties_trainX,diabaties_trainY)"
   ]
  },
  {
   "cell_type": "code",
   "execution_count": 7,
   "id": "dramatic-terrain",
   "metadata": {},
   "outputs": [],
   "source": [
    "diabaties_predictY=linearRegression.predict(diabaties_testX)"
   ]
  },
  {
   "cell_type": "code",
   "execution_count": 8,
   "id": "imperial-semester",
   "metadata": {},
   "outputs": [],
   "source": [
    "# pd.DataFrame(diabaties_testY)"
   ]
  },
  {
   "cell_type": "code",
   "execution_count": 9,
   "id": "collaborative-release",
   "metadata": {},
   "outputs": [
    {
     "name": "stdout",
     "output_type": "stream",
     "text": [
      "2004.5676026898211\n"
     ]
    }
   ],
   "source": [
    "print(mean_squared_error(diabaties_testY, diabaties_predictY))"
   ]
  },
  {
   "cell_type": "code",
   "execution_count": 10,
   "id": "experienced-apparel",
   "metadata": {},
   "outputs": [],
   "source": [
    "df=pd.DataFrame(pd.read_excel('./Cars/Swift.xlsx'))"
   ]
  },
  {
   "cell_type": "code",
   "execution_count": 11,
   "id": "ongoing-duration",
   "metadata": {},
   "outputs": [],
   "source": [
    "df_Petrol=df[df['Fuel (P:0 , D:1)']==0]\n",
    "df_Diesel=df[df['Fuel (P:0 , D:1)']==1]"
   ]
  },
  {
   "cell_type": "code",
   "execution_count": 12,
   "id": "weekly-richards",
   "metadata": {},
   "outputs": [],
   "source": [
    "train_X_Petrol=df_Petrol[:-5]\n",
    "train_Y_Petrol=df_Petrol[:-5]"
   ]
  },
  {
   "cell_type": "code",
   "execution_count": 13,
   "id": "diagnostic-issue",
   "metadata": {},
   "outputs": [],
   "source": [
    "train_Y_Petrol=train_Y_Petrol['Price']"
   ]
  },
  {
   "cell_type": "code",
   "execution_count": 14,
   "id": "existing-bundle",
   "metadata": {},
   "outputs": [],
   "source": [
    "train_X_Petrol=train_X_Petrol[['KM','Model','Condition(Denting/Screches)']]"
   ]
  },
  {
   "cell_type": "code",
   "execution_count": 15,
   "id": "underlying-skill",
   "metadata": {},
   "outputs": [],
   "source": [
    "train_Y_Petrol=pd.DataFrame(train_Y_Petrol)\n",
    "# train_X_Petrol"
   ]
  },
  {
   "cell_type": "code",
   "execution_count": 16,
   "id": "accepted-incentive",
   "metadata": {},
   "outputs": [],
   "source": [
    "# train_Y_Petrol"
   ]
  },
  {
   "cell_type": "code",
   "execution_count": 17,
   "id": "qualified-cache",
   "metadata": {},
   "outputs": [],
   "source": [
    "test_X_Petrol=df_Petrol[-5:]\n",
    "test_Y_Petrol=df_Petrol[-5:]"
   ]
  },
  {
   "cell_type": "code",
   "execution_count": 18,
   "id": "electronic-heater",
   "metadata": {},
   "outputs": [],
   "source": [
    "test_X_Petrol=test_X_Petrol[['KM','Model','Condition(Denting/Screches)']]"
   ]
  },
  {
   "cell_type": "code",
   "execution_count": 19,
   "id": "seventh-marriage",
   "metadata": {},
   "outputs": [],
   "source": [
    "test_Y_Petrol=test_Y_Petrol['Price']"
   ]
  },
  {
   "cell_type": "code",
   "execution_count": 20,
   "id": "wrapped-insight",
   "metadata": {},
   "outputs": [],
   "source": [
    "test_Y_Petrol=pd.DataFrame(test_Y_Petrol)"
   ]
  },
  {
   "cell_type": "code",
   "execution_count": 21,
   "id": "distinct-incidence",
   "metadata": {},
   "outputs": [
    {
     "data": {
      "text/html": [
       "<div>\n",
       "<style scoped>\n",
       "    .dataframe tbody tr th:only-of-type {\n",
       "        vertical-align: middle;\n",
       "    }\n",
       "\n",
       "    .dataframe tbody tr th {\n",
       "        vertical-align: top;\n",
       "    }\n",
       "\n",
       "    .dataframe thead th {\n",
       "        text-align: right;\n",
       "    }\n",
       "</style>\n",
       "<table border=\"1\" class=\"dataframe\">\n",
       "  <thead>\n",
       "    <tr style=\"text-align: right;\">\n",
       "      <th></th>\n",
       "      <th>Price</th>\n",
       "    </tr>\n",
       "  </thead>\n",
       "  <tbody>\n",
       "    <tr>\n",
       "      <th>52</th>\n",
       "      <td>120000</td>\n",
       "    </tr>\n",
       "    <tr>\n",
       "      <th>54</th>\n",
       "      <td>465000</td>\n",
       "    </tr>\n",
       "    <tr>\n",
       "      <th>55</th>\n",
       "      <td>200000</td>\n",
       "    </tr>\n",
       "    <tr>\n",
       "      <th>56</th>\n",
       "      <td>145000</td>\n",
       "    </tr>\n",
       "    <tr>\n",
       "      <th>59</th>\n",
       "      <td>255000</td>\n",
       "    </tr>\n",
       "  </tbody>\n",
       "</table>\n",
       "</div>"
      ],
      "text/plain": [
       "     Price\n",
       "52  120000\n",
       "54  465000\n",
       "55  200000\n",
       "56  145000\n",
       "59  255000"
      ]
     },
     "execution_count": 21,
     "metadata": {},
     "output_type": "execute_result"
    }
   ],
   "source": [
    "test_Y_Petrol"
   ]
  },
  {
   "cell_type": "code",
   "execution_count": 22,
   "id": "prospective-health",
   "metadata": {},
   "outputs": [],
   "source": [
    "SwiftCarPetrol=linear_model.LinearRegression()"
   ]
  },
  {
   "cell_type": "code",
   "execution_count": 23,
   "id": "champion-station",
   "metadata": {},
   "outputs": [
    {
     "data": {
      "text/plain": [
       "LinearRegression()"
      ]
     },
     "execution_count": 23,
     "metadata": {},
     "output_type": "execute_result"
    }
   ],
   "source": [
    "SwiftCarPetrol.fit(train_X_Petrol,train_Y_Petrol)"
   ]
  },
  {
   "cell_type": "code",
   "execution_count": 24,
   "id": "standard-darwin",
   "metadata": {},
   "outputs": [],
   "source": [
    "predict_Price_Petrol=pd.DataFrame(SwiftCarPetrol.predict(test_X_Petrol))"
   ]
  },
  {
   "cell_type": "code",
   "execution_count": 25,
   "id": "hearing-front",
   "metadata": {},
   "outputs": [
    {
     "name": "stdout",
     "output_type": "stream",
     "text": [
      "5864832189.903129\n"
     ]
    }
   ],
   "source": [
    "print(mean_squared_error(test_Y_Petrol,predict_Price_Petrol))"
   ]
  },
  {
   "cell_type": "code",
   "execution_count": 26,
   "id": "quantitative-giving",
   "metadata": {},
   "outputs": [
    {
     "data": {
      "text/plain": [
       "array([[-3.98904387e-01,  5.62349853e+03,  1.68282594e+04]])"
      ]
     },
     "execution_count": 26,
     "metadata": {},
     "output_type": "execute_result"
    }
   ],
   "source": [
    "SwiftCarPetrol.coef_"
   ]
  },
  {
   "cell_type": "code",
   "execution_count": 29,
   "id": "leading-birmingham",
   "metadata": {},
   "outputs": [
    {
     "data": {
      "text/html": [
       "<div>\n",
       "<style scoped>\n",
       "    .dataframe tbody tr th:only-of-type {\n",
       "        vertical-align: middle;\n",
       "    }\n",
       "\n",
       "    .dataframe tbody tr th {\n",
       "        vertical-align: top;\n",
       "    }\n",
       "\n",
       "    .dataframe thead th {\n",
       "        text-align: right;\n",
       "    }\n",
       "</style>\n",
       "<table border=\"1\" class=\"dataframe\">\n",
       "  <thead>\n",
       "    <tr style=\"text-align: right;\">\n",
       "      <th></th>\n",
       "      <th>Price</th>\n",
       "      <th>KM</th>\n",
       "      <th>Model</th>\n",
       "      <th>Fuel (P:0 , D:1)</th>\n",
       "      <th>Condition(Denting/Screches)</th>\n",
       "    </tr>\n",
       "  </thead>\n",
       "  <tbody>\n",
       "    <tr>\n",
       "      <th>0</th>\n",
       "      <td>515000</td>\n",
       "      <td>21000</td>\n",
       "      <td>2015</td>\n",
       "      <td>0</td>\n",
       "      <td>10</td>\n",
       "    </tr>\n",
       "    <tr>\n",
       "      <th>1</th>\n",
       "      <td>400000</td>\n",
       "      <td>54000</td>\n",
       "      <td>2014</td>\n",
       "      <td>0</td>\n",
       "      <td>8</td>\n",
       "    </tr>\n",
       "    <tr>\n",
       "      <th>2</th>\n",
       "      <td>249000</td>\n",
       "      <td>92000</td>\n",
       "      <td>2008</td>\n",
       "      <td>1</td>\n",
       "      <td>5</td>\n",
       "    </tr>\n",
       "    <tr>\n",
       "      <th>3</th>\n",
       "      <td>435000</td>\n",
       "      <td>62000</td>\n",
       "      <td>2015</td>\n",
       "      <td>1</td>\n",
       "      <td>7</td>\n",
       "    </tr>\n",
       "    <tr>\n",
       "      <th>4</th>\n",
       "      <td>120000</td>\n",
       "      <td>56885</td>\n",
       "      <td>2015</td>\n",
       "      <td>0</td>\n",
       "      <td>6</td>\n",
       "    </tr>\n",
       "    <tr>\n",
       "      <th>...</th>\n",
       "      <td>...</td>\n",
       "      <td>...</td>\n",
       "      <td>...</td>\n",
       "      <td>...</td>\n",
       "      <td>...</td>\n",
       "    </tr>\n",
       "    <tr>\n",
       "      <th>57</th>\n",
       "      <td>399999</td>\n",
       "      <td>84000</td>\n",
       "      <td>2014</td>\n",
       "      <td>1</td>\n",
       "      <td>5</td>\n",
       "    </tr>\n",
       "    <tr>\n",
       "      <th>58</th>\n",
       "      <td>635000</td>\n",
       "      <td>85000</td>\n",
       "      <td>2016</td>\n",
       "      <td>1</td>\n",
       "      <td>7</td>\n",
       "    </tr>\n",
       "    <tr>\n",
       "      <th>59</th>\n",
       "      <td>255000</td>\n",
       "      <td>75000</td>\n",
       "      <td>2006</td>\n",
       "      <td>0</td>\n",
       "      <td>6</td>\n",
       "    </tr>\n",
       "    <tr>\n",
       "      <th>60</th>\n",
       "      <td>345000</td>\n",
       "      <td>77100</td>\n",
       "      <td>2012</td>\n",
       "      <td>1</td>\n",
       "      <td>8</td>\n",
       "    </tr>\n",
       "    <tr>\n",
       "      <th>61</th>\n",
       "      <td>359000</td>\n",
       "      <td>110000</td>\n",
       "      <td>2014</td>\n",
       "      <td>1</td>\n",
       "      <td>7</td>\n",
       "    </tr>\n",
       "  </tbody>\n",
       "</table>\n",
       "<p>62 rows × 5 columns</p>\n",
       "</div>"
      ],
      "text/plain": [
       "     Price      KM  Model  Fuel (P:0 , D:1)  Condition(Denting/Screches)\n",
       "0   515000   21000   2015                 0                           10\n",
       "1   400000   54000   2014                 0                            8\n",
       "2   249000   92000   2008                 1                            5\n",
       "3   435000   62000   2015                 1                            7\n",
       "4   120000   56885   2015                 0                            6\n",
       "..     ...     ...    ...               ...                          ...\n",
       "57  399999   84000   2014                 1                            5\n",
       "58  635000   85000   2016                 1                            7\n",
       "59  255000   75000   2006                 0                            6\n",
       "60  345000   77100   2012                 1                            8\n",
       "61  359000  110000   2014                 1                            7\n",
       "\n",
       "[62 rows x 5 columns]"
      ]
     },
     "execution_count": 29,
     "metadata": {},
     "output_type": "execute_result"
    }
   ],
   "source": [
    "pd.read_excel('./Cars/Swift.xlsx')"
   ]
  },
  {
   "cell_type": "code",
   "execution_count": 40,
   "id": "surgical-coordinate",
   "metadata": {},
   "outputs": [],
   "source": [
    "predictor=[515000,2015,10]"
   ]
  },
  {
   "cell_type": "code",
   "execution_count": 41,
   "id": "needed-forth",
   "metadata": {},
   "outputs": [],
   "source": [
    "predict=pd.DataFrame([predictor])"
   ]
  },
  {
   "cell_type": "code",
   "execution_count": 42,
   "id": "focused-charter",
   "metadata": {},
   "outputs": [
    {
     "data": {
      "text/plain": [
       "array([[187260.77107015]])"
      ]
     },
     "execution_count": 42,
     "metadata": {},
     "output_type": "execute_result"
    }
   ],
   "source": [
    "SwiftCarPetrol.predict(predict)"
   ]
  },
  {
   "cell_type": "code",
   "execution_count": null,
   "id": "hindu-biology",
   "metadata": {},
   "outputs": [],
   "source": []
  }
 ],
 "metadata": {
  "kernelspec": {
   "display_name": "Python 3",
   "language": "python",
   "name": "python3"
  },
  "language_info": {
   "codemirror_mode": {
    "name": "ipython",
    "version": 3
   },
   "file_extension": ".py",
   "mimetype": "text/x-python",
   "name": "python",
   "nbconvert_exporter": "python",
   "pygments_lexer": "ipython3",
   "version": "3.6.9"
  }
 },
 "nbformat": 4,
 "nbformat_minor": 5
}
